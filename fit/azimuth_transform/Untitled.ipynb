{
 "cells": [
  {
   "cell_type": "code",
   "execution_count": 1,
   "id": "3f283fbb-1bce-4296-bf8b-b37bbc221fc6",
   "metadata": {},
   "outputs": [],
   "source": [
    "import os\n",
    "import glob\n",
    "\n",
    "import numpy as np\n",
    "import astropy.time\n",
    "import astropy.coordinates\n",
    "from datetime import datetime\n",
    "\n",
    "from icecube.icetray import I3Tray\n",
    "from icecube import icetray, dataio, dataclasses, radcube\n",
    "from icecube.dataclasses import I3AntennaGeo\n",
    "from icecube.icetray import I3Units\n",
    "from icecube import astro\n",
    "from icecube import icetray, dataio, dataclasses, radcube"
   ]
  },
  {
   "cell_type": "code",
   "execution_count": 13,
   "id": "3ccca5ae-2f9f-413c-87a1-ab1317bde256",
   "metadata": {},
   "outputs": [
    {
     "data": {
      "text/plain": [
       "[]"
      ]
     },
     "execution_count": 13,
     "metadata": {},
     "output_type": "execute_result"
    }
   ],
   "source": [
    "glob.glob(os.path.join('/mnt/lfs6/exp/IceCube/2023/unbiased/surface/V7_radio/radio_temp/i3_files/', 'eventData_*.i3.gz'))"
   ]
  },
  {
   "cell_type": "code",
   "execution_count": 14,
   "id": "9645e925-8526-46e2-805b-9f86d6d2616d",
   "metadata": {},
   "outputs": [
    {
     "data": {
      "text/plain": [
       "['/mnt/lfs6/exp/IceCube/2023/unbiased/surface/V7_radio/radio_temp/i3_files/eventData_1692922207_2023-08-25_00-10-07_4095_138288.i3.gz']"
      ]
     },
     "execution_count": 14,
     "metadata": {},
     "output_type": "execute_result"
    }
   ],
   "source": [
    "baseLoc = '/mnt/lfs6/exp/IceCube/2023/unbiased/surface/V7_radio/radio_temp/i3_files/'\n",
    "\n",
    "def list_files_between_months(start_date, end_date, directory=baseLoc):\n",
    "    filtered_files = [\n",
    "        f for f in glob.glob(os.path.join(directory, 'eventData_*.i3.gz'))\n",
    "        if (start_date <= os.path.basename(f).split('_')[2] <= end_date)\n",
    "    ]\n",
    "    return filtered_files\n",
    "input_files = list_files_between_months('2023-01-01', '2023-06-06')\n",
    "input_files = ['/mnt/lfs6/exp/IceCube/2023/unbiased/surface/V7_radio/radio_temp/i3_files/eventData_1692922207_2023-08-25_00-10-07_4095_138288.i3.gz']\n",
    "input_files\n"
   ]
  },
  {
   "cell_type": "code",
   "execution_count": null,
   "id": "9c862b5a-98cd-43b7-a513-18538d9b911e",
   "metadata": {},
   "outputs": [],
   "source": [
    "#frame['I3EventHeader'].start_time.mod_julian_day + (frame['I3EventHeader'].start_time.mod_julian_sec / 86400.0)"
   ]
  },
  {
   "cell_type": "code",
   "execution_count": null,
   "id": "ec1c2742-3b05-4785-b5eb-385e9a10b4d6",
   "metadata": {},
   "outputs": [],
   "source": [
    "def get_mjd(frame):\n",
    "    jd = frame['I3EventHeader'].start_time.mod_julian_day\n",
    "    mjd = jd + (frame['I3EventHeader'].start_time.mod_julian_sec / 86400.0)\n",
    "    return mjd"
   ]
  },
  {
   "cell_type": "code",
   "execution_count": 17,
   "id": "d0708834-d99b-48e5-9b65-e6ca7499f3d8",
   "metadata": {},
   "outputs": [
    {
     "name": "stderr",
     "output_type": "stream",
     "text": [
      "FATAL (icetray): problems opening file '/mnt/lfs6/exp/IceCube/2023/unbiased/surface/V7_radio/radio_temp/i3_files/eventData_1692922207_2023-08-25_00-10-07_4095_138288.i3.gz' for reading.  Check permissions, paths. (open.cxx:128 in void I3::dataio::open(boost::iostreams::filtering_istream&, const std::string&))\n"
     ]
    },
    {
     "ename": "RuntimeError",
     "evalue": "problems opening file '/mnt/lfs6/exp/IceCube/2023/unbiased/surface/V7_radio/radio_temp/i3_files/eventData_1692922207_2023-08-25_00-10-07_4095_138288.i3.gz' for reading.  Check permissions, paths. (in void I3::dataio::open(boost::iostreams::filtering_istream&, const std::string&))",
     "output_type": "error",
     "traceback": [
      "\u001b[0;31m---------------------------------------------------------------------------\u001b[0m",
      "\u001b[0;31mRuntimeError\u001b[0m                              Traceback (most recent call last)",
      "Cell \u001b[0;32mIn[17], line 1\u001b[0m\n\u001b[0;32m----> 1\u001b[0m f \u001b[38;5;241m=\u001b[39m \u001b[43mdataio\u001b[49m\u001b[38;5;241;43m.\u001b[39;49m\u001b[43mI3File\u001b[49m\u001b[43m(\u001b[49m\u001b[38;5;124;43m'\u001b[39;49m\u001b[38;5;124;43m/mnt/lfs6/exp/IceCube/2023/unbiased/surface/V7_radio/radio_temp/i3_files/eventData_1692922207_2023-08-25_00-10-07_4095_138288.i3.gz\u001b[39;49m\u001b[38;5;124;43m'\u001b[39;49m\u001b[43m)\u001b[49m\n",
      "\u001b[0;31mRuntimeError\u001b[0m: problems opening file '/mnt/lfs6/exp/IceCube/2023/unbiased/surface/V7_radio/radio_temp/i3_files/eventData_1692922207_2023-08-25_00-10-07_4095_138288.i3.gz' for reading.  Check permissions, paths. (in void I3::dataio::open(boost::iostreams::filtering_istream&, const std::string&))"
     ]
    }
   ],
   "source": [
    "f = dataio.I3File('/mnt/lfs6/exp/IceCube/2023/unbiased/surface/V7_radio/radio_temp/i3_files/eventData_1692922207_2023-08-25_00-10-07_4095_138288.i3.gz')"
   ]
  },
  {
   "cell_type": "code",
   "execution_count": null,
   "id": "841ccdb1-c7b0-44de-8a2f-0ed6f6cf2a6a",
   "metadata": {},
   "outputs": [],
   "source": [
    "paths = "
   ]
  }
 ],
 "metadata": {
  "kernelspec": {
   "display_name": "py3-v4.3.0: icetray/v1.9.2",
   "language": "shell",
   "name": "py3-v4.3.0_v1.9.2"
  },
  "language_info": {
   "codemirror_mode": {
    "name": "ipython",
    "version": 3
   },
   "file_extension": ".py",
   "mimetype": "text/x-python",
   "name": "python",
   "nbconvert_exporter": "python",
   "pygments_lexer": "ipython3",
   "version": "3.11.3"
  }
 },
 "nbformat": 4,
 "nbformat_minor": 5
}
