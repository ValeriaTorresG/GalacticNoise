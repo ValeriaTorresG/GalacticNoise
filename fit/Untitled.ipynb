{
 "cells": [
  {
   "cell_type": "code",
   "execution_count": null,
   "id": "07641c15-4c84-4237-9c1c-9f4903041c3a",
   "metadata": {},
   "outputs": [],
   "source": [
    "from scipy.stats import binned_statistic\n",
    "from scipy.optimize import curve_fit\n",
    "from icecube.icetray import I3Units\n",
    "from datetime import datetime\n",
    "import pandas as pd\n",
    "import numpy as np\n",
    "\n",
    "import matplotlib.gridspec as gridspec\n",
    "import matplotlib.dates as mdates\n",
    "import matplotlib.pyplot as plt\n",
    "import matplotlib\n",
    "\n",
    "from astropy.visualization import astropy_mpl_style, quantity_support\n",
    "matplotlib.rcParams['text.usetex'] = False\n",
    "plt.rcParams['figure.dpi'] = 360\n",
    "plt.style.use(astropy_mpl_style)\n",
    "quantity_support()\n",
    "%matplotlib inline"
   ]
  },
  {
   "cell_type": "code",
   "execution_count": null,
   "id": "6d280c00-7f81-4763-995f-fcc0f1ad5d58",
   "metadata": {},
   "outputs": [],
   "source": []
  }
 ],
 "metadata": {
  "kernelspec": {
   "display_name": "py3-v4.3.0: icetray/v1.9.2",
   "language": "shell",
   "name": "py3-v4.3.0_v1.9.2"
  },
  "language_info": {
   "codemirror_mode": {
    "name": "ipython",
    "version": 3
   },
   "file_extension": ".py",
   "mimetype": "text/x-python",
   "name": "python",
   "nbconvert_exporter": "python",
   "pygments_lexer": "ipython3",
   "version": "3.11.3"
  }
 },
 "nbformat": 4,
 "nbformat_minor": 5
}
