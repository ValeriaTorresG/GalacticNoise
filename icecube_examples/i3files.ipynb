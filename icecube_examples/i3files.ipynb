{
 "cells": [
  {
   "cell_type": "code",
   "execution_count": 2,
   "id": "58742dac-6e6b-4d06-b2e6-2e385d021b95",
   "metadata": {},
   "outputs": [],
   "source": [
    "from icecube import dataio"
   ]
  },
  {
   "cell_type": "code",
   "execution_count": 4,
   "id": "70901c50-12c1-4eb0-a929-2745e683930f",
   "metadata": {},
   "outputs": [
    {
     "data": {
      "text/plain": [
       "<icecube._dataio.I3File at 0x7f28c82f8450>"
      ]
     },
     "execution_count": 4,
     "metadata": {},
     "output_type": "execute_result"
    }
   ],
   "source": [
    "file = dataio.I3File('MyOutput.i3.gz')\n",
    "file"
   ]
  },
  {
   "cell_type": "code",
   "execution_count": 6,
   "id": "44fe9f0c-aa0d-4b1a-bdc3-47dd95ddff88",
   "metadata": {},
   "outputs": [
    {
     "data": {
      "text/plain": [
       "<icecube._icetray.I3Frame at 0x7f28d80867a0>"
      ]
     },
     "execution_count": 6,
     "metadata": {},
     "output_type": "execute_result"
    }
   ],
   "source": [
    "frame = file.pop_frame()\n",
    "frame"
   ]
  },
  {
   "cell_type": "code",
   "execution_count": 7,
   "id": "d881d758-0a59-4b81-ab17-fe9768f0ed73",
   "metadata": {},
   "outputs": [
    {
     "data": {
      "text/plain": [
       "['I3AntennaGeometry']"
      ]
     },
     "execution_count": 7,
     "metadata": {},
     "output_type": "execute_result"
    }
   ],
   "source": [
    "frame.keys()"
   ]
  },
  {
   "cell_type": "code",
   "execution_count": null,
   "id": "b1489a05-84b6-4911-8824-a1f39559fed6",
   "metadata": {},
   "outputs": [],
   "source": []
  }
 ],
 "metadata": {
  "kernelspec": {
   "display_name": "py3-v4.3.0: icetray/v1.9.2",
   "language": "shell",
   "name": "py3-v4.3.0_v1.9.2"
  },
  "language_info": {
   "codemirror_mode": {
    "name": "ipython",
    "version": 3
   },
   "file_extension": ".py",
   "mimetype": "text/x-python",
   "name": "python",
   "nbconvert_exporter": "python",
   "pygments_lexer": "ipython3",
   "version": "3.11.3"
  }
 },
 "nbformat": 4,
 "nbformat_minor": 5
}
